{
 "cells": [
  {
   "cell_type": "code",
   "execution_count": null,
   "metadata": {},
   "outputs": [],
   "source": [
    "from IPython.display import HTML\n",
    "\n",
    "HTML('''<script>\n",
    "code_show=true; \n",
    "function code_toggle() {\n",
    " if (code_show){\n",
    " $('div.input').hide();\n",
    " } else {\n",
    " $('div.input').show();\n",
    " }\n",
    " code_show = !code_show\n",
    "} \n",
    "$( document ).ready(code_toggle);\n",
    "</script>\n",
    "<em>the code of this notebook is hidden for easier reading.\n",
    "to toggle it on/off click <a href=\"javascript:code_toggle()\">here</a>.</em>''')"
   ]
  },
  {
   "cell_type": "markdown",
   "metadata": {
    "slideshow": {
     "slide_type": "-"
    }
   },
   "source": [
    "### PANORAMAS OF CINEMA online"
   ]
  },
  {
   "cell_type": "markdown",
   "metadata": {},
   "source": [
    "# // SUBTITLES SEARCH\n",
    "v0.01"
   ]
  },
  {
   "cell_type": "markdown",
   "metadata": {},
   "source": [
    "# 1. SEARCH THE VIDEOTHEQUE"
   ]
  },
  {
   "cell_type": "markdown",
   "metadata": {},
   "source": [
    "### > type your query and options"
   ]
  },
  {
   "cell_type": "code",
   "execution_count": null,
   "metadata": {},
   "outputs": [],
   "source": [
    "# GLOBAL\n",
    "app_http = 'http://ec2-3-127-150-33.eu-central-1.compute.amazonaws.com'\n",
    "button_color = 'black' # #7d1b27\n",
    "\n",
    "# DISPLAY WIDGETS \n",
    "from IPython.display import display, clear_output\n",
    "from ipywidgets import interactive, interact\n",
    "import ipywidgets as widgets\n",
    "\n",
    "def search_text(text, min_conf, max_conf, max_results):\n",
    "    return\n",
    "\n",
    "w_search_text = interactive(search_text, text='gone south',\n",
    "                            min_conf=widgets.FloatSlider(min=0.01, max=1., step=.001, value=.0),\n",
    "                            max_conf=widgets.FloatSlider(min=0.01, max=1., step=.001, value=1.),\n",
    "                            max_results='10'\n",
    "                           )\n",
    "\n",
    "display(w_search_text)\n"
   ]
  },
  {
   "cell_type": "code",
   "execution_count": null,
   "metadata": {
    "scrolled": false
   },
   "outputs": [],
   "source": [
    "# REFRESH QUERY\n",
    "import requests, ast\n",
    "\n",
    "def format_text(query):\n",
    "    this_query = query.replace(' ', '%20')\n",
    "    return this_query\n",
    "    \n",
    "def refresh_query(event):\n",
    "    clear_output()\n",
    "    display(search_button)\n",
    "    \n",
    "    text = format_text(w_search_text.kwargs['text'])\n",
    "    confX = w_search_text.kwargs['min_conf']\n",
    "    confY = w_search_text.kwargs['max_conf']\n",
    "    max_results = w_search_text.kwargs['max_results']\n",
    "\n",
    "    # \n",
    "    this_query = app_http+'/subs?'\n",
    "    if text: this_query = this_query+'text=%s&confidence_min=%s&confidence_max=%s&category=0'%(text,confX,confY)\n",
    "    if max_results: this_query = this_query+'&maxResults=%s'%max_results\n",
    "    #print(this_query)\n",
    "    \n",
    "    global my_text\n",
    "    my_text = ast.literal_eval(requests.get(this_query).text)['body']\n",
    "    #print (len(my_text), 'images with this search') # this_query[73:]\n",
    "    #print(my_text)\n",
    "    \n",
    "    for movie, timestamp, prev, this, nex in my_text:\n",
    "        print('• %s'%movie[1:])\n",
    "        #print()\n",
    "        print()\n",
    "        print(prev)\n",
    "        print()\n",
    "        print(this)\n",
    "        print()\n",
    "        print(nex)\n",
    "        print()\n",
    "        print()\n",
    "\n",
    "                    \n",
    "search_button = widgets.Button(description=\"search\", button_style='info')\n",
    "search_button.style.button_color = button_color\n",
    "display(search_button)\n",
    "search_button.on_click(refresh_query)"
   ]
  },
  {
   "cell_type": "code",
   "execution_count": null,
   "metadata": {},
   "outputs": [],
   "source": []
  }
 ],
 "metadata": {
  "kernelspec": {
   "display_name": "Python 3",
   "language": "python",
   "name": "python3"
  },
  "language_info": {
   "codemirror_mode": {
    "name": "ipython",
    "version": 3
   },
   "file_extension": ".py",
   "mimetype": "text/x-python",
   "name": "python",
   "nbconvert_exporter": "python",
   "pygments_lexer": "ipython3",
   "version": "3.7.6"
  }
 },
 "nbformat": 4,
 "nbformat_minor": 4
}
